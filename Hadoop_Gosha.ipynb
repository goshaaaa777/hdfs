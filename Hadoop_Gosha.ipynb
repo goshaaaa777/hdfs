{
  "nbformat": 4,
  "nbformat_minor": 0,
  "metadata": {
    "colab": {
      "name": "Hadoop_Gosha.ipynb",
      "provenance": [],
      "authorship_tag": "ABX9TyOWaSvL+nJn2m0vMGsFmuYB",
      "include_colab_link": true
    },
    "kernelspec": {
      "name": "python3",
      "display_name": "Python 3"
    },
    "language_info": {
      "name": "python"
    }
  },
  "cells": [
    {
      "cell_type": "markdown",
      "metadata": {
        "id": "view-in-github",
        "colab_type": "text"
      },
      "source": [
        "<a href=\"https://colab.research.google.com/github/goshaaaa777/hdfsgs/blob/main/Hadoop_Gosha.ipynb\" target=\"_parent\"><img src=\"https://colab.research.google.com/assets/colab-badge.svg\" alt=\"Open In Colab\"/></a>"
      ]
    },
    {
      "cell_type": "code",
      "execution_count": null,
      "metadata": {
        "id": "sUpnEwkIb12u"
      },
      "outputs": [],
      "source": [
        "!apt-get install openjdk-8-jdk-headless -qq > /dev/null"
      ]
    },
    {
      "cell_type": "code",
      "source": [
        "!wget https://downloads.apache.org/hadoop/common/hadoop-2.10.1/hadoop-2.10.1.tar.gz"
      ],
      "metadata": {
        "colab": {
          "base_uri": "https://localhost:8080/"
        },
        "id": "33z1Em9befYy",
        "outputId": "da692d93-9fb3-4366-df3c-6ab44250f794"
      },
      "execution_count": null,
      "outputs": [
        {
          "output_type": "stream",
          "name": "stdout",
          "text": [
            "--2022-07-11 23:00:51--  https://downloads.apache.org/hadoop/common/hadoop-2.10.1/hadoop-2.10.1.tar.gz\n",
            "Resolving downloads.apache.org (downloads.apache.org)... 135.181.214.104, 88.99.95.219, 2a01:4f8:10a:201a::2, ...\n",
            "Connecting to downloads.apache.org (downloads.apache.org)|135.181.214.104|:443... connected.\n",
            "HTTP request sent, awaiting response... 200 OK\n",
            "Length: 408587111 (390M) [application/x-gzip]\n",
            "Saving to: ‘hadoop-2.10.1.tar.gz’\n",
            "\n",
            "hadoop-2.10.1.tar.g 100%[===================>] 389.66M  22.6MB/s    in 18s     \n",
            "\n",
            "2022-07-11 23:01:09 (21.6 MB/s) - ‘hadoop-2.10.1.tar.gz’ saved [408587111/408587111]\n",
            "\n"
          ]
        }
      ]
    },
    {
      "cell_type": "code",
      "source": [
        "!tar -xzf hadoop-2.10.1.tar.gz"
      ],
      "metadata": {
        "id": "8u5nRs8IefT6"
      },
      "execution_count": null,
      "outputs": []
    },
    {
      "cell_type": "code",
      "source": [
        "!cp -r hadoop-2.10.1/ /usr/local/hadoop-2.10.1"
      ],
      "metadata": {
        "id": "jzPZRZGAghef"
      },
      "execution_count": null,
      "outputs": []
    },
    {
      "cell_type": "code",
      "source": [
        "import os\n"
      ],
      "metadata": {
        "id": "oTcNeB5eghbZ"
      },
      "execution_count": null,
      "outputs": []
    },
    {
      "cell_type": "code",
      "source": [
        "os.environ[\"JAVA_HOME\"] = \"/usr/lib/jvm/java-8-openjdk-amd64\""
      ],
      "metadata": {
        "id": "3cK7RS-fghY6"
      },
      "execution_count": null,
      "outputs": []
    },
    {
      "cell_type": "code",
      "source": [
        "os.environ['PATH'] = os.environ['PATH'] + \":\" + \"/usr/local/hadoop-2.10.1/bin/\""
      ],
      "metadata": {
        "id": "43HVJbaOhuex"
      },
      "execution_count": null,
      "outputs": []
    },
    {
      "cell_type": "code",
      "source": [
        "os.environ"
      ],
      "metadata": {
        "colab": {
          "base_uri": "https://localhost:8080/",
          "height": 53
        },
        "id": "3_c34upthub4",
        "outputId": "11222fc9-0f63-4eb2-c615-64147113b57d"
      },
      "execution_count": null,
      "outputs": [
        {
          "output_type": "execute_result",
          "data": {
            "text/plain": [
              "'/opt/bin:/usr/local/nvidia/bin:/usr/local/cuda/bin:/usr/local/sbin:/usr/local/bin:/usr/sbin:/usr/bin:/sbin:/bin:/tools/node/bin:/tools/google-cloud-sdk/bin:/usr/local/hadoop-2.10.1/bin/'"
            ],
            "application/vnd.google.colaboratory.intrinsic+json": {
              "type": "string"
            }
          },
          "metadata": {},
          "execution_count": 8
        }
      ]
    },
    {
      "cell_type": "code",
      "source": [
        "!hdfs"
      ],
      "metadata": {
        "colab": {
          "base_uri": "https://localhost:8080/"
        },
        "id": "Vfd4ENNdib1g",
        "outputId": "fded92e8-620f-4c46-d029-fc2c9b58827d"
      },
      "execution_count": null,
      "outputs": [
        {
          "output_type": "stream",
          "name": "stdout",
          "text": [
            "Usage: hdfs [--config confdir] [--loglevel loglevel] COMMAND\n",
            "       where COMMAND is one of:\n",
            "  dfs                  run a filesystem command on the file systems supported in Hadoop.\n",
            "  classpath            prints the classpath\n",
            "  namenode -format     format the DFS filesystem\n",
            "  secondarynamenode    run the DFS secondary namenode\n",
            "  namenode             run the DFS namenode\n",
            "  journalnode          run the DFS journalnode\n",
            "  zkfc                 run the ZK Failover Controller daemon\n",
            "  datanode             run a DFS datanode\n",
            "  debug                run a Debug Admin to execute HDFS debug commands\n",
            "  dfsadmin             run a DFS admin client\n",
            "  dfsrouter            run the DFS router\n",
            "  dfsrouteradmin       manage Router-based federation\n",
            "  haadmin              run a DFS HA admin client\n",
            "  fsck                 run a DFS filesystem checking utility\n",
            "  balancer             run a cluster balancing utility\n",
            "  jmxget               get JMX exported values from NameNode or DataNode.\n",
            "  mover                run a utility to move block replicas across\n",
            "                       storage types\n",
            "  oiv                  apply the offline fsimage viewer to an fsimage\n",
            "  oiv_legacy           apply the offline fsimage viewer to an legacy fsimage\n",
            "  oev                  apply the offline edits viewer to an edits file\n",
            "  fetchdt              fetch a delegation token from the NameNode\n",
            "  getconf              get config values from configuration\n",
            "  groups               get the groups which users belong to\n",
            "  snapshotDiff         diff two snapshots of a directory or diff the\n",
            "                       current directory contents with a snapshot\n",
            "  lsSnapshottableDir   list all snapshottable dirs owned by the current user\n",
            "\t\t\t\t\t\tUse -help to see options\n",
            "  portmap              run a portmap service\n",
            "  nfs3                 run an NFS version 3 gateway\n",
            "  cacheadmin           configure the HDFS cache\n",
            "  crypto               configure HDFS encryption zones\n",
            "  storagepolicies      list/get/set block storage policies\n",
            "  version              print the version\n",
            "\n",
            "Most commands print help when invoked w/o parameters.\n"
          ]
        }
      ]
    },
    {
      "cell_type": "code",
      "source": [
        "!hdfs dfs -ls /"
      ],
      "metadata": {
        "colab": {
          "base_uri": "https://localhost:8080/"
        },
        "id": "B5FgkD72ibyL",
        "outputId": "4e5aae53-da13-49ec-e028-da1e8b2f842a"
      },
      "execution_count": null,
      "outputs": [
        {
          "output_type": "stream",
          "name": "stdout",
          "text": [
            "Found 26 items\n",
            "-rwxr-xr-x   1 root root          0 2022-07-11 22:53 /.dockerenv\n",
            "drwxr-xr-x   - root root       4096 2022-06-29 13:34 /bin\n",
            "drwxr-xr-x   - root root       4096 2018-04-24 08:34 /boot\n",
            "drwxr-xr-x   - root root       4096 2022-07-11 23:05 /content\n",
            "drwxr-xr-x   - root root       4096 2022-07-07 13:18 /datalab\n",
            "drwxr-xr-x   - root root        360 2022-07-11 22:53 /dev\n",
            "drwxr-xr-x   - root root       4096 2022-07-11 22:58 /etc\n",
            "drwxr-xr-x   - root root       4096 2018-04-24 08:34 /home\n",
            "drwxr-xr-x   - root root       4096 2022-06-29 13:35 /lib\n",
            "drwxr-xr-x   - root root       4096 2022-06-29 13:23 /lib32\n",
            "drwxr-xr-x   - root root       4096 2022-06-29 13:22 /lib64\n",
            "drwxr-xr-x   - root root       4096 2020-11-19 13:07 /media\n",
            "drwxr-xr-x   - root root       4096 2020-11-19 13:07 /mnt\n",
            "drwxr-xr-x   - root root       4096 2022-06-29 13:37 /opt\n",
            "dr-xr-xr-x   - root root          0 2022-07-11 22:53 /proc\n",
            "drwxr-xr-x   - root root       4096 2022-06-29 13:36 /python-apt\n",
            "drwx------   - root root       4096 2022-07-08 13:18 /root\n",
            "drwxr-xr-x   - root root       4096 2022-06-29 13:26 /run\n",
            "drwxr-xr-x   - root root       4096 2022-07-11 22:53 /sbin\n",
            "drwxr-xr-x   - root root       4096 2020-11-19 13:07 /srv\n",
            "dr-xr-xr-x   - root root          0 2022-07-11 22:53 /sys\n",
            "drwxr-xr-x   - root root       4096 2022-07-06 13:36 /tensorflow-1.15.2\n",
            "drwxrwxrwt   - root root       4096 2022-07-11 22:58 /tmp\n",
            "drwxr-xr-x   - root root       4096 2022-07-07 13:18 /tools\n",
            "drwxr-xr-x   - root root       4096 2022-06-29 13:37 /usr\n",
            "drwxr-xr-x   - root root       4096 2022-07-11 22:53 /var\n"
          ]
        }
      ]
    },
    {
      "cell_type": "code",
      "source": [
        "!hdfs dfs -ls /content"
      ],
      "metadata": {
        "colab": {
          "base_uri": "https://localhost:8080/"
        },
        "id": "h_1bJI0ZibtP",
        "outputId": "9523e530-48fa-4bec-b3a5-4b5620b39b02"
      },
      "execution_count": null,
      "outputs": [
        {
          "output_type": "stream",
          "name": "stdout",
          "text": [
            "Found 4 items\n",
            "drwxr-xr-x   - root root       4096 2022-07-06 13:21 /content/.config\n",
            "drwxr-xr-x   - 1000 1000       4096 2020-09-14 13:39 /content/hadoop-2.10.1\n",
            "-rw-r--r--   1 root root  408587111 2020-09-22 02:23 /content/hadoop-2.10.1.tar.gz\n",
            "drwxr-xr-x   - root root       4096 2022-07-06 13:22 /content/sample_data\n"
          ]
        }
      ]
    },
    {
      "cell_type": "code",
      "source": [
        "!hdfs dfs -mkdir /example"
      ],
      "metadata": {
        "colab": {
          "base_uri": "https://localhost:8080/"
        },
        "id": "6tHARG-9huY0",
        "outputId": "6313f3c1-4103-4d2d-9a27-22eb6a57d215"
      },
      "execution_count": null,
      "outputs": [
        {
          "output_type": "stream",
          "name": "stdout",
          "text": [
            "mkdir: `/example': File exists\n"
          ]
        }
      ]
    },
    {
      "cell_type": "code",
      "source": [
        "!hdfs dfs -ls /"
      ],
      "metadata": {
        "colab": {
          "base_uri": "https://localhost:8080/"
        },
        "id": "1tJ5kOVNmg6a",
        "outputId": "0f471c6a-1872-431d-c3c7-1f3814bc54d0"
      },
      "execution_count": null,
      "outputs": [
        {
          "output_type": "stream",
          "name": "stdout",
          "text": [
            "Found 27 items\n",
            "-rwxr-xr-x   1 root root          0 2022-07-11 22:53 /.dockerenv\n",
            "drwxr-xr-x   - root root       4096 2022-06-29 13:34 /bin\n",
            "drwxr-xr-x   - root root       4096 2018-04-24 08:34 /boot\n",
            "drwxr-xr-x   - root root       4096 2022-07-11 23:05 /content\n",
            "drwxr-xr-x   - root root       4096 2022-07-07 13:18 /datalab\n",
            "drwxr-xr-x   - root root        360 2022-07-11 22:53 /dev\n",
            "drwxr-xr-x   - root root       4096 2022-07-11 22:58 /etc\n",
            "drwxr-xr-x   - root root       4096 2022-07-11 23:30 /example\n",
            "drwxr-xr-x   - root root       4096 2018-04-24 08:34 /home\n",
            "drwxr-xr-x   - root root       4096 2022-06-29 13:35 /lib\n",
            "drwxr-xr-x   - root root       4096 2022-06-29 13:23 /lib32\n",
            "drwxr-xr-x   - root root       4096 2022-06-29 13:22 /lib64\n",
            "drwxr-xr-x   - root root       4096 2020-11-19 13:07 /media\n",
            "drwxr-xr-x   - root root       4096 2020-11-19 13:07 /mnt\n",
            "drwxr-xr-x   - root root       4096 2022-06-29 13:37 /opt\n",
            "dr-xr-xr-x   - root root          0 2022-07-11 22:53 /proc\n",
            "drwxr-xr-x   - root root       4096 2022-06-29 13:36 /python-apt\n",
            "drwx------   - root root       4096 2022-07-08 13:18 /root\n",
            "drwxr-xr-x   - root root       4096 2022-06-29 13:26 /run\n",
            "drwxr-xr-x   - root root       4096 2022-07-11 22:53 /sbin\n",
            "drwxr-xr-x   - root root       4096 2020-11-19 13:07 /srv\n",
            "dr-xr-xr-x   - root root          0 2022-07-11 22:53 /sys\n",
            "drwxr-xr-x   - root root       4096 2022-07-06 13:36 /tensorflow-1.15.2\n",
            "drwxrwxrwt   - root root       4096 2022-07-11 22:58 /tmp\n",
            "drwxr-xr-x   - root root       4096 2022-07-07 13:18 /tools\n",
            "drwxr-xr-x   - root root       4096 2022-06-29 13:37 /usr\n",
            "drwxr-xr-x   - root root       4096 2022-07-11 22:53 /var\n"
          ]
        }
      ]
    },
    {
      "cell_type": "code",
      "source": [
        "!hdfs dfs -mkdir /example/carpeta1\n",
        "!hdfs dfs -mkdir /example/carpeta2\n",
        "!hdfs dfs -mkdir /example/carpeta3\n",
        "\n"
      ],
      "metadata": {
        "id": "yTEixlQkmg34"
      },
      "execution_count": null,
      "outputs": []
    },
    {
      "cell_type": "code",
      "source": [
        "!hdfs dfs -ls /example"
      ],
      "metadata": {
        "colab": {
          "base_uri": "https://localhost:8080/"
        },
        "id": "RaZMc8w8mg1r",
        "outputId": "4825b03a-3bd3-492b-865d-fefaee8391c6"
      },
      "execution_count": null,
      "outputs": [
        {
          "output_type": "stream",
          "name": "stdout",
          "text": [
            "Found 3 items\n",
            "drwxr-xr-x   - root root       4096 2022-07-12 00:54 /example/carpeta1\n",
            "drwxr-xr-x   - root root       4096 2022-07-12 00:54 /example/carpeta2\n",
            "drwxr-xr-x   - root root       4096 2022-07-12 00:54 /example/carpeta3\n"
          ]
        }
      ]
    },
    {
      "cell_type": "code",
      "source": [
        "!hdfs dfs -mkdir -p  /example/carpeta1/carpetaA/carpetaB/carpetaC"
      ],
      "metadata": {
        "id": "0KPWR3cx6F0q"
      },
      "execution_count": null,
      "outputs": []
    },
    {
      "cell_type": "code",
      "source": [
        "!hdfs dfs -ls -R /example/"
      ],
      "metadata": {
        "colab": {
          "base_uri": "https://localhost:8080/"
        },
        "id": "XyqrvGrM6FyU",
        "outputId": "dd73fd9c-5b3c-42a7-f58a-cf7d88664538"
      },
      "execution_count": null,
      "outputs": [
        {
          "output_type": "stream",
          "name": "stdout",
          "text": [
            "drwxr-xr-x   - root root       4096 2022-07-12 00:57 /example/carpeta1\n",
            "drwxr-xr-x   - root root       4096 2022-07-12 00:57 /example/carpeta1/carpetaA\n",
            "drwxr-xr-x   - root root       4096 2022-07-12 00:57 /example/carpeta1/carpetaA/carpetaB\n",
            "drwxr-xr-x   - root root       4096 2022-07-12 00:57 /example/carpeta1/carpetaA/carpetaB/carpetaC\n",
            "drwxr-xr-x   - root root       4096 2022-07-12 00:54 /example/carpeta2\n",
            "drwxr-xr-x   - root root       4096 2022-07-12 00:54 /example/carpeta3\n"
          ]
        }
      ]
    },
    {
      "cell_type": "code",
      "source": [
        "!hdfs dfs -touchz /example/archivo_vacio_txt"
      ],
      "metadata": {
        "id": "oaKYkAGM6FvW"
      },
      "execution_count": null,
      "outputs": []
    },
    {
      "cell_type": "code",
      "source": [
        "!hdfs dfs -ls /example"
      ],
      "metadata": {
        "colab": {
          "base_uri": "https://localhost:8080/"
        },
        "id": "29sognuh7AxA",
        "outputId": "70d2d2ea-b793-4cc1-f648-d345a491544e"
      },
      "execution_count": null,
      "outputs": [
        {
          "output_type": "stream",
          "name": "stdout",
          "text": [
            "Found 4 items\n",
            "-rw-r--r--   1 root root          0 2022-07-12 01:01 /example/archivo_vacio_txt\n",
            "drwxr-xr-x   - root root       4096 2022-07-12 00:57 /example/carpeta1\n",
            "drwxr-xr-x   - root root       4096 2022-07-12 00:54 /example/carpeta2\n",
            "drwxr-xr-x   - root root       4096 2022-07-12 00:54 /example/carpeta3\n"
          ]
        }
      ]
    },
    {
      "cell_type": "code",
      "source": [
        "!hdfs dfs -touchz /example/_SUCCESS"
      ],
      "metadata": {
        "id": "fnOYxBhX7As3"
      },
      "execution_count": null,
      "outputs": []
    },
    {
      "cell_type": "code",
      "source": [
        "!hdfs dfs -touchz /example/_ERROR"
      ],
      "metadata": {
        "id": "XvpUVABH7Amg"
      },
      "execution_count": null,
      "outputs": []
    },
    {
      "cell_type": "code",
      "source": [
        "!hdfs dfs -ls /example"
      ],
      "metadata": {
        "colab": {
          "base_uri": "https://localhost:8080/"
        },
        "id": "sGlVuFwh7sbO",
        "outputId": "c018f3e0-1bdf-44f4-ab9f-bdd010554094"
      },
      "execution_count": null,
      "outputs": [
        {
          "output_type": "stream",
          "name": "stdout",
          "text": [
            "Found 6 items\n",
            "-rw-r--r--   1 root root          0 2022-07-12 01:03 /example/_ERROR\n",
            "-rw-r--r--   1 root root          0 2022-07-12 01:03 /example/_SUCCESS\n",
            "-rw-r--r--   1 root root          0 2022-07-12 01:01 /example/archivo_vacio_txt\n",
            "drwxr-xr-x   - root root       4096 2022-07-12 00:57 /example/carpeta1\n",
            "drwxr-xr-x   - root root       4096 2022-07-12 00:54 /example/carpeta2\n",
            "drwxr-xr-x   - root root       4096 2022-07-12 00:54 /example/carpeta3\n"
          ]
        }
      ]
    },
    {
      "cell_type": "code",
      "source": [
        "!hdfs dfs -put /content/persona.data /example"
      ],
      "metadata": {
        "id": "A394_Zp17sYx"
      },
      "execution_count": null,
      "outputs": []
    },
    {
      "cell_type": "code",
      "source": [
        "!hdfs dfs -ls /example"
      ],
      "metadata": {
        "colab": {
          "base_uri": "https://localhost:8080/"
        },
        "id": "FO7AIkTuBAsq",
        "outputId": "5c2d63da-a029-4f6f-d705-e531731b3fbc"
      },
      "execution_count": null,
      "outputs": [
        {
          "output_type": "stream",
          "name": "stdout",
          "text": [
            "Found 7 items\n",
            "-rw-r--r--   1 root root          0 2022-07-12 01:03 /example/_ERROR\n",
            "-rw-r--r--   1 root root          0 2022-07-12 01:03 /example/_SUCCESS\n",
            "-rw-r--r--   1 root root          0 2022-07-12 01:01 /example/archivo_vacio_txt\n",
            "drwxr-xr-x   - root root       4096 2022-07-12 00:57 /example/carpeta1\n",
            "drwxr-xr-x   - root root       4096 2022-07-12 00:54 /example/carpeta2\n",
            "drwxr-xr-x   - root root       4096 2022-07-12 00:54 /example/carpeta3\n",
            "-rw-r--r--   1 root root       7282 2022-07-12 01:25 /example/persona.data\n"
          ]
        }
      ]
    },
    {
      "cell_type": "code",
      "source": [
        "!hdfs dfs -cat /example/persona.data"
      ],
      "metadata": {
        "colab": {
          "base_uri": "https://localhost:8080/"
        },
        "id": "7MHFeayQBAna",
        "outputId": "9a0be91c-aa34-4a8e-979d-71d11a8e1826"
      },
      "execution_count": null,
      "outputs": [
        {
          "output_type": "stream",
          "name": "stdout",
          "text": [
            "ID|NOMBRE|TELEFONO|CORREO|FECHA_INGRESO|EDAD|SALARIO|ID_EMPRESA\r\n",
            "1|Carl|1-745-633-9145|arcu.Sed.et@ante.co.uk|2004-04-23|32|20095|5\r\n",
            "2|Priscilla|155-2498|Donec.egestas.Aliquam@volutpatnunc.edu|2019-02-17|34|9298|2\r\n",
            "3|Jocelyn|1-204-956-8594|amet.diam@lobortis.co.uk|2002-08-01|27|10853|3\r\n",
            "4|Aidan|1-719-862-9385|euismod.et.commodo@nibhlaciniaorci.edu|2018-11-06|29|3387|10\r\n",
            "5|Leandra|839-8044|at@pretiumetrutrum.com|2002-10-10|41|22102|1\r\n",
            "6|Bert|797-4453|a.felis.ullamcorper@arcu.org|2017-04-25|70|7800|7\r\n",
            "7|Mark|1-680-102-6792|Quisque.ac@placerat.ca|2006-04-21|52|8112|5\r\n",
            "8|Jonah|214-2975|eu.ultrices.sit@vitae.ca|2017-10-07|23|17040|5\r\n",
            "9|Hanae|935-2277|eu@Nunc.ca|2003-05-25|69|6834|3\r\n",
            "10|Cadman|1-866-561-2701|orci.adipiscing.non@semperNam.ca|2001-05-19|19|7996|7\r\n",
            "11|Melyssa|596-7736|vel@vulputateposuerevulputate.net|2008-10-14|48|4913|8\r\n",
            "12|Tanner|1-739-776-7897|arcu.Aliquam.ultrices@sociis.com|2011-05-10|24|19943|8\r\n",
            "13|Trevor|512-1955|Nunc.quis.arcu@egestasa.org|2010-08-06|34|9501|5\r\n",
            "14|Allen|733-2795|felis.Donec@necleo.org|2005-03-07|59|16289|2\r\n",
            "15|Wanda|359-6973|Nam.nulla.magna@In.org|2005-08-21|27|1539|5\r\n",
            "16|Alden|341-8522|odio@morbitristiquesenectus.ca|2006-12-05|26|3377|2\r\n",
            "17|Omar|720-1543|Phasellus.vitae.mauris@sollicitudin.net|2014-06-24|60|6851|6\r\n",
            "18|Owen|1-167-335-7541|sociis@erat.com|2002-04-09|34|4759|7\r\n",
            "19|Laura|1-974-623-2057|mollis@ornare.ca|2017-03-09|70|17403|4\r\n",
            "20|Emery|1-672-840-0264|at.nisi@vel.org|2004-02-27|24|18752|9\r\n",
            "21|Carissa|1-300-877-0859|dignissim.pharetra.Nam@Pellentesqueultriciesdignissim.com|2011-10-16|31|1952|10\r\n",
            "22|Kibo|970-8006|scelerisque.lorem@mattis.org|2012-04-25|22|7449|2\r\n",
            "23|Samson|1-430-188-6663|urna.justo.faucibus@neceleifendnon.net|2011-12-15|51|8099|6\r\n",
            "24|Amaya|1-448-826-9497|ullamcorper.magna@dictumultriciesligula.org|2000-09-18|24|1801|8\r\n",
            "25|Pearl|1-850-202-3373|vel.convallis@rhoncus.co.uk|2018-12-21|52|14756|6\r\n",
            "26|Brenden|1-455-726-9413|elit.pede.malesuada@liberomaurisaliquam.org|2000-03-17|33|20549|7\r\n",
            "27|Alexander|912-0676|semper.auctor.Mauris@mollislectuspede.edu|2000-08-16|55|13813|6\r\n",
            "28|Stephen|326-2020|arcu.Aliquam.ultrices@acnullaIn.co.uk|2016-09-04|53|9469|8\r\n",
            "29|Jana|1-564-106-5562|sed.dolor.Fusce@Sedet.co.uk|2008-10-18|39|6483|2\r\n",
            "30|Clayton|1-599-614-5185|est.Nunc@dictumeuplacerat.com|2008-10-08|52|9505|8\r\n",
            "31|Rylee|306-5447|Sed.nunc@turpis.edu|2001-09-17|47|21591|3\r\n",
            "32|Gisela|406-8031|Praesent.luctus@dui.co.uk|2002-08-21|67|6497|1\r\n",
            "33|Jin|1-620-779-3366|est.Nunc.ullamcorper@nullaInteger.co.uk|2016-11-07|42|22038|2\r\n",
            "34|Lila|1-703-777-4150|viverra@sit.edu|2015-02-26|48|24305|4\r\n",
            "35|Aurora|1-865-751-3479|magna@Cras.net|2017-10-21|54|4588|5\r\n",
            "36|Keely|1-882-403-3531|taciti@neceleifendnon.edu|2008-02-03|41|10373|9\r\n",
            "37|Inga|767-6448|Mauris.quis.turpis@euismodurna.net|2016-12-31|41|8562|3\r\n",
            "38|Irma|722-8997|ac.urna.Ut@a.ca|2013-10-14|58|6747|8\r\n",
            "39|Carolyn|846-7060|metus.Aenean.sed@odiosempercursus.ca|2013-05-29|64|22838|6\r\n",
            "40|Ross|387-0945|amet.faucibus@ipsum.edu|2009-07-27|67|14285|3\r\n",
            "41|Wynne|711-0298|eget@dolorQuisque.ca|2007-07-24|31|19522|4\r\n",
            "42|Wanda|941-3970|auctor.velit@sem.com|2011-12-12|42|5419|9\r\n",
            "43|Yetta|986-0220|vitae@dapibusrutrumjusto.co.uk|2008-03-24|61|21452|2\r\n",
            "44|Azalia|582-8465|eu.odio@a.co.uk|2009-12-14|27|16735|10\r\n",
            "45|Kylynn|1-427-463-8734|porttitor.eros.nec@Integer.net|2006-12-19|22|7040|7\r\n",
            "46|Camden|1-663-540-3304|leo@dignissimpharetraNam.net|2003-10-19|30|7860|10\r\n",
            "47|Vernon|735-8400|leo@mattisIntegereu.net|2000-11-23|35|7109|10\r\n",
            "48|Illiana|572-3648|montes.nascetur.ridiculus@hendreritneque.co.uk|2017-07-25|18|1454|8\r\n",
            "49|Logan|706-7700|neque@sedpede.net|2008-03-07|63|4963|7\r\n",
            "50|Ross|1-587-285-1837|at.risus@milaciniamattis.com|2009-11-03|31|19092|5\r\n",
            "51|Damon|368-7630|nunc@dapibusquamquis.co.uk|2016-08-11|49|2669|5\r\n",
            "52|Whoopi|1-671-552-5009|semper@Cras.ca|2019-01-21|22|23051|9\r\n",
            "53|Zachery|314-8083|hymenaeos.Mauris@mollis.ca|2001-01-06|22|23820|3\r\n",
            "54|Lars|1-554-600-0855|commodo@Nam.edu|2005-06-22|25|20573|1\r\n",
            "55|Jennifer|755-6162|id@ultrices.com|2011-10-19|64|19013|9\r\n",
            "56|Colby|1-517-827-8614|nec.ligula@euneque.ca|2014-03-05|19|15496|7\r\n",
            "57|Jillian|1-286-285-0336|ipsum@luctus.org|2006-06-02|47|13445|8\r\n",
            "58|Igor|1-361-603-8276|mattis.Integer.eu@hendreritconsectetuer.net|2003-07-18|37|6191|3\r\n",
            "59|Quemby|930-5882|lorem.ut.aliquam@nuncsed.org|2017-10-04|26|12092|5\r\n",
            "60|Bernard|492-8823|vel.faucibus@Donec.edu|2005-04-15|27|10825|2\r\n",
            "61|Abel|1-235-530-5916|Curae@afacilisis.org|2011-11-08|33|15070|9\r\n",
            "62|Amelia|119-9184|Donec.egestas.Aliquam@turpisvitae.co.uk|2016-01-15|35|6042|8\r\n",
            "63|Sade|112-5494|In@utquam.com|2012-04-05|70|11112|6\r\n",
            "64|Graiden|874-4897|massa.Mauris.vestibulum@sitamet.co.uk|2010-06-10|28|22037|3\r\n",
            "65|Nehru|142-9576|nibh@sagittis.org|2017-08-13|34|12423|4\r\n",
            "66|Adrian|220-8905|enim@mollisPhasellus.com|2018-03-15|46|22953|2\r\n",
            "67|Buffy|1-538-190-2276|amet@at.ca|2005-10-21|38|15116|2\r\n",
            "68|Hayes|712-8783|at@ametdiam.net|2011-12-31|31|7523|5\r\n",
            "69|Halee|1-208-996-8549|interdum.feugiat@imperdietornare.edu|2008-12-25|30|16782|3\r\n",
            "70|Suki|1-654-418-8537|varius.orci.in@congueelit.co.uk|2010-05-15|43|12029|1\r\n",
            "71|Doris|508-8624|Curabitur.vel.lectus@mauris.co.uk|2005-04-28|23|11538|6\r\n",
            "72|Tallulah|1-314-720-8141|non@idmagnaet.ca|2000-04-03|46|9867|5\r\n",
            "73|Fiona|1-866-258-8730|sit@sedsemegestas.net|2009-09-27|42|9960|10\r\n",
            "74|Kaitlin|817-0415|Etiam.laoreet.libero@odiosagittissemper.net|2009-05-22|56|6515|10\r\n",
            "75|Nyssa|362-0379|nisi.sem.semper@egestasligulaNullam.edu|2002-04-29|53|2284|6\r\n",
            "76|Omar|1-325-245-9578|elit.erat@utodiovel.co.uk|2012-11-19|34|12163|6\r\n",
            "77|Brynne|1-357-977-8936|aliquet.nec.imperdiet@euismod.org|2013-06-04|22|16551|7\r\n",
            "78|Lenore|1-817-973-5592|Nunc.pulvinar.arcu@Duisatlacus.co.uk|2014-07-07|57|1483|2\r\n",
            "79|Philip|1-113-528-3055|nisi.Cum@malesuadavel.edu|2012-09-17|51|3919|10\r\n",
            "80|Ebony|1-291-360-4704|parturient.montes.nascetur@vitaeerat.com|2014-05-22|59|3600|6\r\n",
            "81|Joy|1-379-384-0646|mi.Aliquam@nislNulla.org|2015-11-15|19|1256|2\r\n",
            "82|Cally|1-658-890-5167|id@dolor.edu|2008-12-13|67|24575|10\r\n",
            "83|Giselle|1-515-799-6913|ipsum.Suspendisse.sagittis@Innec.org|2002-10-31|45|2503|2\r\n",
            "84|Keith|1-319-281-9980|augue.ac@Nulla.co.uk|2008-01-03|33|13348|4\r\n",
            "85|Kennedy|596-0668|nibh.sit@famesac.ca|2011-04-25|41|7272|3\r\n",
            "86|Jack|860-9554|parturient.montes.nascetur@dui.com|2017-03-10|58|14473|5\r\n",
            "87|Karly|1-644-725-7241|tempor.erat@feugiatnon.ca|2011-06-12|25|3715|1\r\n",
            "88|Zeus|1-525-361-5753|non.magna.Nam@nuncid.org|2000-09-15|29|21556|7\r\n",
            "89|Kelly|430-9134|turpis.In@egestasFusce.ca|2016-04-01|55|10110|6\r\n",
            "90|Sigourney|598-8806|sit.amet@sem.net|2002-05-02|42|9145|6\r\n",
            "91|Erica|1-320-339-2705|tristique.senectus@eleifendnondapibus.org|2015-02-23|32|8934|6\r\n",
            "92|Lesley|973-4902|felis.adipiscing.fringilla@Proinvelnisl.co.uk|2004-02-29|19|23547|4\r\n",
            "93|Althea|1-163-702-1244|sit.amet.nulla@elit.co.uk|2002-09-01|24|8818|1\r\n",
            "94|Amir|1-221-717-0093|dapibus.ligula@faucibuslectus.com|2001-02-11|18|20980|4\r\n",
            "95|Jayme|1-641-113-8418|ornare.Fusce@tinciduntcongueturpis.co.uk|2002-05-31|58|23975|4\r\n",
            "96|Amos|729-4665|non.lacinia@pharetra.net|2017-11-27|42|15855|2\r\n",
            "97|Flavia|1-559-270-7164|erat.vel.pede@sedtortor.co.uk|2004-11-14|27|13473|3\r\n",
            "98|Yuli|772-9996|sagittis@nisl.com|2005-04-17|57|1336|5\r\n",
            "99|Ray|1-420-314-2886|ac.risus.Morbi@telluseuaugue.org|2011-12-30|26|5570|1\r\n",
            "100|Cynthia|148-9696|justo.nec.ante@tinciduntvehicula.org|2008-01-23|57|8682|5"
          ]
        }
      ]
    },
    {
      "cell_type": "code",
      "source": [
        "!hdfs dfs -tail /example/persona.data"
      ],
      "metadata": {
        "colab": {
          "base_uri": "https://localhost:8080/"
        },
        "id": "YFzYP4_iBAlF",
        "outputId": "36383562-e71e-449a-daf8-e94f455b67b8"
      },
      "execution_count": null,
      "outputs": [
        {
          "output_type": "stream",
          "name": "stdout",
          "text": [
            "7241|tempor.erat@feugiatnon.ca|2011-06-12|25|3715|1\r\n",
            "88|Zeus|1-525-361-5753|non.magna.Nam@nuncid.org|2000-09-15|29|21556|7\r\n",
            "89|Kelly|430-9134|turpis.In@egestasFusce.ca|2016-04-01|55|10110|6\r\n",
            "90|Sigourney|598-8806|sit.amet@sem.net|2002-05-02|42|9145|6\r\n",
            "91|Erica|1-320-339-2705|tristique.senectus@eleifendnondapibus.org|2015-02-23|32|8934|6\r\n",
            "92|Lesley|973-4902|felis.adipiscing.fringilla@Proinvelnisl.co.uk|2004-02-29|19|23547|4\r\n",
            "93|Althea|1-163-702-1244|sit.amet.nulla@elit.co.uk|2002-09-01|24|8818|1\r\n",
            "94|Amir|1-221-717-0093|dapibus.ligula@faucibuslectus.com|2001-02-11|18|20980|4\r\n",
            "95|Jayme|1-641-113-8418|ornare.Fusce@tinciduntcongueturpis.co.uk|2002-05-31|58|23975|4\r\n",
            "96|Amos|729-4665|non.lacinia@pharetra.net|2017-11-27|42|15855|2\r\n",
            "97|Flavia|1-559-270-7164|erat.vel.pede@sedtortor.co.uk|2004-11-14|27|13473|3\r\n",
            "98|Yuli|772-9996|sagittis@nisl.com|2005-04-17|57|1336|5\r\n",
            "99|Ray|1-420-314-2886|ac.risus.Morbi@telluseuaugue.org|2011-12-30|26|5570|1\r\n",
            "100|Cynthia|148-9696|justo.nec.ante@tinciduntvehicula.org|2008-01-23|57|8682|5"
          ]
        }
      ]
    },
    {
      "cell_type": "code",
      "source": [
        "!hdfs dfs -put /content/transacciones*.data /example"
      ],
      "metadata": {
        "id": "DTAckgUVBAio"
      },
      "execution_count": null,
      "outputs": []
    },
    {
      "cell_type": "code",
      "source": [
        "!hdfs dfs -ls /example"
      ],
      "metadata": {
        "colab": {
          "base_uri": "https://localhost:8080/"
        },
        "id": "72V2nnttBAgF",
        "outputId": "9a5627b3-ad99-4b6b-dbec-23e1b6d69741"
      },
      "execution_count": null,
      "outputs": [
        {
          "output_type": "stream",
          "name": "stdout",
          "text": [
            "Found 10 items\n",
            "-rw-r--r--   1 root root          0 2022-07-12 01:03 /example/_ERROR\n",
            "-rw-r--r--   1 root root          0 2022-07-12 01:03 /example/_SUCCESS\n",
            "-rw-r--r--   1 root root          0 2022-07-12 01:01 /example/archivo_vacio_txt\n",
            "drwxr-xr-x   - root root       4096 2022-07-12 00:57 /example/carpeta1\n",
            "drwxr-xr-x   - root root       4096 2022-07-12 00:54 /example/carpeta2\n",
            "drwxr-xr-x   - root root       4096 2022-07-12 00:54 /example/carpeta3\n",
            "-rw-r--r--   1 root root       7282 2022-07-12 01:25 /example/persona.data\n",
            "-rw-r--r--   1 root root     538827 2022-07-12 01:31 /example/transacciones-2018-01-21.data\n",
            "-rw-r--r--   1 root root     668498 2022-07-12 01:31 /example/transacciones-2018-01-22.data\n",
            "-rw-r--r--   1 root root    1336418 2022-07-12 01:31 /example/transacciones-2018-01-23.data\n"
          ]
        }
      ]
    },
    {
      "cell_type": "code",
      "source": [
        "!hdfs dfs -rm -f /example/persona.data"
      ],
      "metadata": {
        "colab": {
          "base_uri": "https://localhost:8080/"
        },
        "id": "kFgvF7ADBqjq",
        "outputId": "552d8cbe-3128-487a-8735-96c40a005060"
      },
      "execution_count": null,
      "outputs": [
        {
          "output_type": "stream",
          "name": "stdout",
          "text": [
            "22/07/12 01:33:48 INFO Configuration.deprecation: io.bytes.per.checksum is deprecated. Instead, use dfs.bytes-per-checksum\n",
            "Deleted /example/persona.data\n"
          ]
        }
      ]
    },
    {
      "cell_type": "code",
      "source": [
        "!hdfs dfs -ls /example"
      ],
      "metadata": {
        "colab": {
          "base_uri": "https://localhost:8080/"
        },
        "id": "GjPh_A-bBqgU",
        "outputId": "4a46349d-adfc-470c-c794-dfa9a73095ba"
      },
      "execution_count": null,
      "outputs": [
        {
          "output_type": "stream",
          "name": "stdout",
          "text": [
            "Found 9 items\n",
            "-rw-r--r--   1 root root          0 2022-07-12 01:03 /example/_ERROR\n",
            "-rw-r--r--   1 root root          0 2022-07-12 01:03 /example/_SUCCESS\n",
            "-rw-r--r--   1 root root          0 2022-07-12 01:01 /example/archivo_vacio_txt\n",
            "drwxr-xr-x   - root root       4096 2022-07-12 00:57 /example/carpeta1\n",
            "drwxr-xr-x   - root root       4096 2022-07-12 00:54 /example/carpeta2\n",
            "drwxr-xr-x   - root root       4096 2022-07-12 00:54 /example/carpeta3\n",
            "-rw-r--r--   1 root root     538827 2022-07-12 01:31 /example/transacciones-2018-01-21.data\n",
            "-rw-r--r--   1 root root     668498 2022-07-12 01:31 /example/transacciones-2018-01-22.data\n",
            "-rw-r--r--   1 root root    1336418 2022-07-12 01:31 /example/transacciones-2018-01-23.data\n"
          ]
        }
      ]
    },
    {
      "cell_type": "code",
      "source": [
        "!hdfs dfs -rm -f /example/transacciones *.data"
      ],
      "metadata": {
        "id": "00vJ5oVGBqdn"
      },
      "execution_count": null,
      "outputs": []
    },
    {
      "cell_type": "code",
      "source": [
        "!hdfs dfs -rm -r -f /example/carpeta1"
      ],
      "metadata": {
        "colab": {
          "base_uri": "https://localhost:8080/"
        },
        "id": "nfjGbNf6CuSO",
        "outputId": "aceb233b-3170-474c-a305-fa59a9f3cdd8"
      },
      "execution_count": null,
      "outputs": [
        {
          "output_type": "stream",
          "name": "stdout",
          "text": [
            "22/07/12 01:36:13 INFO Configuration.deprecation: io.bytes.per.checksum is deprecated. Instead, use dfs.bytes-per-checksum\n",
            "Deleted /example/carpeta1\n"
          ]
        }
      ]
    },
    {
      "cell_type": "code",
      "source": [
        "!hdfs dfs -ls /example"
      ],
      "metadata": {
        "colab": {
          "base_uri": "https://localhost:8080/"
        },
        "id": "Kf9kMehtCuQA",
        "outputId": "3ef0778c-f9bd-4126-df27-c8a1042fcc52"
      },
      "execution_count": null,
      "outputs": [
        {
          "output_type": "stream",
          "name": "stdout",
          "text": [
            "Found 8 items\n",
            "-rw-r--r--   1 root root          0 2022-07-12 01:03 /example/_ERROR\n",
            "-rw-r--r--   1 root root          0 2022-07-12 01:03 /example/_SUCCESS\n",
            "-rw-r--r--   1 root root          0 2022-07-12 01:01 /example/archivo_vacio_txt\n",
            "drwxr-xr-x   - root root       4096 2022-07-12 00:54 /example/carpeta2\n",
            "drwxr-xr-x   - root root       4096 2022-07-12 00:54 /example/carpeta3\n",
            "-rw-r--r--   1 root root     538827 2022-07-12 01:31 /example/transacciones-2018-01-21.data\n",
            "-rw-r--r--   1 root root     668498 2022-07-12 01:31 /example/transacciones-2018-01-22.data\n",
            "-rw-r--r--   1 root root    1336418 2022-07-12 01:31 /example/transacciones-2018-01-23.data\n"
          ]
        }
      ]
    },
    {
      "cell_type": "code",
      "source": [
        ""
      ],
      "metadata": {
        "id": "ZiElEu7tCuNv"
      },
      "execution_count": null,
      "outputs": []
    }
  ]
}